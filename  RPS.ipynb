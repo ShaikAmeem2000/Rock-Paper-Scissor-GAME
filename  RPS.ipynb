{
 "cells": [
  {
   "cell_type": "markdown",
   "id": "bd9291be",
   "metadata": {},
   "source": [
    "### Rock paper and scissor Game."
   ]
  },
  {
   "cell_type": "code",
   "execution_count": 1,
   "id": "009cafb3",
   "metadata": {},
   "outputs": [
    {
     "name": "stdout",
     "output_type": "stream",
     "text": [
      " Type any thing from rock,paper,scissor: rock\n",
      " Type any thing from rock,paper,scissor: paper\n",
      " The winner is p2\n"
     ]
    }
   ],
   "source": [
    "p1=input(\" Type any thing from rock,paper,scissor: \")\n",
    "p2=input(\" Type any thing from rock,paper,scissor: \")\n",
    "if p1==\"rock\" and p2==\"rock\"or p1==\"paper\" and p2==\"paper\" and p1==\"scissor\" or p2==\"scissor\":\n",
    "    print(\"draw\")\n",
    "elif p1==\"rock\" and p2==\"paper\" or p1==\"paper\" and p2==\"scissor\" or p1==\"scissor\" and p2==\"rock\":\n",
    "    print(\" The winner is p2\")\n",
    "elif p2==\"rock\" and p1==\"paper\" or p2==\"paper\" and p1==\"scissor\" or p2==\"scissor\" and p1==\"rock\":\n",
    "    print(\" The winner is p1\")\n",
    "else:\n",
    "    print('You have choosen something wrong dude')"
   ]
  }
 ],
 "metadata": {
  "kernelspec": {
   "display_name": "Python 3 (ipykernel)",
   "language": "python",
   "name": "python3"
  },
  "language_info": {
   "codemirror_mode": {
    "name": "ipython",
    "version": 3
   },
   "file_extension": ".py",
   "mimetype": "text/x-python",
   "name": "python",
   "nbconvert_exporter": "python",
   "pygments_lexer": "ipython3",
   "version": "3.9.13"
  }
 },
 "nbformat": 4,
 "nbformat_minor": 5
}
